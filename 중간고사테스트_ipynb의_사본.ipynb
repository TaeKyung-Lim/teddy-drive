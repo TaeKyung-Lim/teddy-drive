{
  "nbformat": 4,
  "nbformat_minor": 0,
  "metadata": {
    "colab": {
      "provenance": [],
      "authorship_tag": "ABX9TyPnPZs6jQNQj987gkaVVKBH",
      "include_colab_link": true
    },
    "kernelspec": {
      "name": "python3",
      "display_name": "Python 3"
    },
    "language_info": {
      "name": "python"
    }
  },
  "cells": [
    {
      "cell_type": "markdown",
      "metadata": {
        "id": "view-in-github",
        "colab_type": "text"
      },
      "source": [
        "<a href=\"https://colab.research.google.com/github/TaeKyung-Lim/teddy-drive/blob/main/%EC%A4%91%EA%B0%84%EA%B3%A0%EC%82%AC%ED%85%8C%EC%8A%A4%ED%8A%B8_ipynb%EC%9D%98_%EC%82%AC%EB%B3%B8.ipynb\" target=\"_parent\"><img src=\"https://colab.research.google.com/assets/colab-badge.svg\" alt=\"Open In Colab\"/></a>"
      ]
    },
    {
      "cell_type": "code",
      "source": [
        "#키와 몸무게를 입력하면 BMI를 계산하는 프로그램을 작성하시오 (반복문을 사용해서 계속 몸무게/키를 입력받음. 종료는 -1000을 입력하면 종료하도록 함)\n",
        "\n",
        "while True:      \n",
        "    weight = float(input(\"몸무게를 입력하세요 (kg) : \"))     #\n",
        "    if weight == -1000:\n",
        "        break\n",
        "    height = float(input(\"키를 입력하세요 (cm) : \"))\n",
        "    if height == -1000:\n",
        "        break\n",
        "    height /= 100\n",
        "    bmi = weight / (height ** 2)\n",
        "    print(\"BMI 지수는 : \", bmi)"
      ],
      "metadata": {
        "colab": {
          "base_uri": "https://localhost:8080/"
        },
        "id": "4AX2_Ezo4JCt",
        "outputId": "c11a99cc-5cd6-4504-84e1-b92a41ca5c3b"
      },
      "execution_count": null,
      "outputs": [
        {
          "name": "stdout",
          "output_type": "stream",
          "text": [
            "몸무게를 입력하세요 (kg) : 80\n",
            "키를 입력하세요 (cm) : 181\n",
            "BMI 지수는 :  24.41927902078691\n",
            "몸무게를 입력하세요 (kg) : -1000\n"
          ]
        }
      ]
    },
    {
      "cell_type": "code",
      "source": [
        "#숫자 2개를 입력받아서 큰수와 작은수를 차례로 출력하는 프로그램을 작성하시오 (반복문을 사용해서 계속 몸무게/키를 입력받음. 종료는 0을 두번 입력하면 종료하도록 함)\n",
        "\n",
        "\n",
        "while True:\n",
        "    num1 = int(input(\"첫 번째 숫자를 입력하세요 : \"))\n",
        "    if num1 == 0:\n",
        "        break\n",
        "    num2 = int(input(\"두 번째 숫자를 입력하세요 : \"))\n",
        "    if num2 == 0:\n",
        "        break\n",
        "    if num1 > num2:\n",
        "        print(num1, num2)\n",
        "    else:\n",
        "        print(num2, num1)"
      ],
      "metadata": {
        "colab": {
          "base_uri": "https://localhost:8080/"
        },
        "id": "-2arj3yP4ehN",
        "outputId": "8f685466-354c-442e-a5bf-29e93b2ac7ca"
      },
      "execution_count": null,
      "outputs": [
        {
          "name": "stdout",
          "output_type": "stream",
          "text": [
            "첫 번째 숫자를 입력하세요 : 9\n",
            "두 번째 숫자를 입력하세요 : 9\n",
            "9 9\n",
            "첫 번째 숫자를 입력하세요 : 00\n"
          ]
        }
      ]
    },
    {
      "cell_type": "code",
      "source": [
        "#10명의 학생 이름과 점수를 입력받아 등수를 계산하고, 출력 시에는 이름, 점수를 등수 순서대로 출력하는 프로그램을 작성하시오.\n",
        "\n",
        "\n",
        "students = []\n",
        "for i in range(10):\n",
        "    name = input(\"학생 이름을 입력하세요 : \")\n",
        "    score = int(input(\"학생 점수를 입력하세요 : \"))\n",
        "    students.append((name, score))\n",
        "\n",
        "students.sort(key=lambda x: x[1], reverse=True)\n",
        "\n",
        "for i in range(len(students)):\n",
        "    print(f\"{i+1}등 : {students[i][0]}, {students[i][1]}점\")"
      ],
      "metadata": {
        "colab": {
          "base_uri": "https://localhost:8080/"
        },
        "id": "RRlRpc8W5RTS",
        "outputId": "3a4d8cbe-6e1f-4632-b98b-cf75cf41c725"
      },
      "execution_count": null,
      "outputs": [
        {
          "output_type": "stream",
          "name": "stdout",
          "text": [
            "학생 이름을 입력하세요 : 김철수\n",
            "학생 점수를 입력하세요 : 80\n",
            "학생 이름을 입력하세요 : 박민수\n",
            "학생 점수를 입력하세요 : 70\n",
            "학생 이름을 입력하세요 : 황인하\n",
            "학생 점수를 입력하세요 : 30\n",
            "학생 이름을 입력하세요 : 이기은\n",
            "학생 점수를 입력하세요 : 80\n",
            "학생 이름을 입력하세요 : 김상어\n",
            "학생 점수를 입력하세요 : 39\n",
            "학생 이름을 입력하세요 : 손영훈\n",
            "학생 점수를 입력하세요 : 80\n",
            "학생 이름을 입력하세요 : 박채담\n",
            "학생 점수를 입력하세요 : 39\n",
            "학생 이름을 입력하세요 : 이기룡\n",
            "학생 점수를 입력하세요 : 89\n",
            "학생 이름을 입력하세요 : 임창정\n",
            "학생 점수를 입력하세요 : 39\n",
            "학생 이름을 입력하세요 : 이지은\n",
            "학생 점수를 입력하세요 : 78\n",
            "1등 : 이기룡, 89점\n",
            "2등 : 김철수, 80점\n",
            "3등 : 이기은, 80점\n",
            "4등 : 손영훈, 80점\n",
            "5등 : 이지은, 78점\n",
            "6등 : 박민수, 70점\n",
            "7등 : 김상어, 39점\n",
            "8등 : 박채담, 39점\n",
            "9등 : 임창정, 39점\n",
            "10등 : 황인하, 30점\n"
          ]
        }
      ]
    }
  ]
}