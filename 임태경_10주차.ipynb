{
  "nbformat": 4,
  "nbformat_minor": 0,
  "metadata": {
    "colab": {
      "provenance": [],
      "authorship_tag": "ABX9TyNTXPCOq+FMLrMCpNTzgDdj",
      "include_colab_link": true
    },
    "kernelspec": {
      "name": "python3",
      "display_name": "Python 3"
    },
    "language_info": {
      "name": "python"
    }
  },
  "cells": [
    {
      "cell_type": "markdown",
      "metadata": {
        "id": "view-in-github",
        "colab_type": "text"
      },
      "source": [
        "<a href=\"https://colab.research.google.com/github/TaeKyung-Lim/teddy-drive/blob/main/%EC%9E%84%ED%83%9C%EA%B2%BD_10%EC%A3%BC%EC%B0%A8.ipynb\" target=\"_parent\"><img src=\"https://colab.research.google.com/assets/colab-badge.svg\" alt=\"Open In Colab\"/></a>"
      ]
    },
    {
      "cell_type": "code",
      "execution_count": 1,
      "metadata": {
        "colab": {
          "base_uri": "https://localhost:8080/"
        },
        "id": "y41y95iXB9kQ",
        "outputId": "b8f4084e-4a09-469c-de9a-52172cea1135"
      },
      "outputs": [
        {
          "output_type": "stream",
          "name": "stdout",
          "text": [
            "None\n",
            "None\n",
            "3\n",
            "10\n"
          ]
        }
      ],
      "source": [
        "result1 = 0\n",
        "result2 = 0\n",
        "\n",
        "def adder1(num) :\n",
        "  global result1\n",
        "  result1 += num\n",
        "\n",
        "def adder2(num) :\n",
        "  global result2\n",
        "  result2 += num\n",
        "  return result2\n",
        "\n",
        "print(adder1(3))\n",
        "print(adder1(4))\n",
        "print(adder2(3))\n",
        "print(adder2(7))\n"
      ]
    },
    {
      "cell_type": "code",
      "source": [
        "class Calculator:\n",
        "  def __init__(self):\n",
        "      self.result = 0\n",
        "\n",
        "  def adder(self, num):\n",
        "      self.result += num\n",
        "      return self.result\n",
        "\n",
        "cal1 = Calculator()\n",
        "cal2 = Calculator()\n",
        "\n",
        "print(cal1.adder(3))\n",
        "print(cal1.adder(4))\n",
        "print(cal2.adder(3))\n",
        "print(cal2.adder(7))\n"
      ],
      "metadata": {
        "colab": {
          "base_uri": "https://localhost:8080/"
        },
        "id": "cKhz5sPzEN0m",
        "outputId": "b7232ddd-5171-4921-e98a-d2a174057272"
      },
      "execution_count": 5,
      "outputs": [
        {
          "output_type": "stream",
          "name": "stdout",
          "text": [
            "3\n",
            "7\n",
            "3\n",
            "10\n"
          ]
        }
      ]
    },
    {
      "cell_type": "code",
      "source": [
        "class service:\n",
        "    secret = \"지구는 4006년 에 멸망한다.\"\n",
        "    def setname(self, name):\n",
        "        self.name = name\n",
        "    def sum(self, a, b):\n",
        "        result = a+b\n",
        "        print(\"%s님, %s + %s = %s입니다.\" % (self.name, a, b, result))\n",
        "an = service()\n",
        "an.setname(\"박 달 도 사\")\n",
        "an.sum(1,1)\n"
      ],
      "metadata": {
        "colab": {
          "base_uri": "https://localhost:8080/"
        },
        "id": "zUWz8hKzFcUm",
        "outputId": "36be99c0-9c89-48f9-b088-8d9b28d3f6de"
      },
      "execution_count": 11,
      "outputs": [
        {
          "output_type": "stream",
          "name": "stdout",
          "text": [
            "박 달 도 사님, 1 + 1 = 2입니다.\n"
          ]
        }
      ]
    },
    {
      "cell_type": "code",
      "source": [
        "kim = service()\n",
        "park = service()\n",
        "kim.name = \"김정보\"\n",
        "park.name = \"박융합\"\n",
        "print(kim.name)\n",
        "print(park.name)\n",
        "\n",
        "kim.secret = \"비밀은 없다\"\n",
        "print(park.secret)\n",
        "\n",
        "print(kim.secret)\n",
        "\n",
        "service.secret\n"
      ],
      "metadata": {
        "colab": {
          "base_uri": "https://localhost:8080/",
          "height": 107
        },
        "id": "caRx63bWHujC",
        "outputId": "98ec39f4-a556-44ed-f4ca-b7d2681d9445"
      },
      "execution_count": 21,
      "outputs": [
        {
          "output_type": "stream",
          "name": "stdout",
          "text": [
            "김정보\n",
            "박융합\n",
            "지구는 4006년 에 멸망한다.\n",
            "비밀은 없다\n"
          ]
        },
        {
          "output_type": "execute_result",
          "data": {
            "text/plain": [
              "'지구는 4006년 에 멸망한다.'"
            ],
            "application/vnd.google.colaboratory.intrinsic+json": {
              "type": "string"
            }
          },
          "metadata": {},
          "execution_count": 21
        }
      ]
    },
    {
      "cell_type": "code",
      "source": [
        "class service:\n",
        "    secret = \"지구는 4006년 에 멸망한다\"\n",
        "    def __init__(self, name):\n",
        "        self.name = name\n",
        "    def sum(self, a, b):\n",
        "        result = a+b\n",
        "        print(\"%s님, %s+%s = %s입니다.\" %(self.name, a, b, result))\n",
        "        \n",
        "an = service(\"박달도사\")\n",
        "an.sum(1, 1)"
      ],
      "metadata": {
        "colab": {
          "base_uri": "https://localhost:8080/"
        },
        "id": "LxUP0-qzL4hU",
        "outputId": "2c6fd35c-aada-4971-f296-63fa57a28851"
      },
      "execution_count": 29,
      "outputs": [
        {
          "output_type": "stream",
          "name": "stdout",
          "text": [
            "박달도사님, 1+1 = 2입니다.\n"
          ]
        }
      ]
    },
    {
      "cell_type": "code",
      "source": [
        "from ast import RShift\n",
        "class FourCal:\n",
        "    def setdata(self, first, second):\n",
        "        self.first = first\n",
        "        self.second = second\n",
        "    def sum(self):\n",
        "        result = self.first + self.second\n",
        "        return result\n",
        "    def mul(self):\n",
        "        result = self.first * self.second\n",
        "        return result\n",
        "    def sub(self):\n",
        "        result = self.first - self.second\n",
        "        return result\n",
        "    def div(self):\n",
        "        result = self.first / self.second\n",
        "        return result\n",
        "\n",
        "\n",
        "\n",
        "\n",
        "a = FourCal()\n",
        "a.setdata(4,2)\n",
        "b.setdata(3,7)\n",
        "\n",
        "\n",
        "print(a.sum())\n",
        "print(a.mul())\n",
        "print(a.sub())\n",
        "print(a.div())\n"
      ],
      "metadata": {
        "colab": {
          "base_uri": "https://localhost:8080/"
        },
        "id": "2texo3DKV1pb",
        "outputId": "d037dff3-271a-4504-99b7-d69cf138db73"
      },
      "execution_count": 72,
      "outputs": [
        {
          "output_type": "stream",
          "name": "stdout",
          "text": [
            "6\n",
            "8\n",
            "2\n",
            "2.0\n"
          ]
        }
      ]
    }
  ]
}