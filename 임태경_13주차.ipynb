{
 "cells": [
  {
   "cell_type": "code",
   "execution_count": 4,
   "id": "c8287d73",
   "metadata": {},
   "outputs": [
    {
     "name": "stdout",
     "output_type": "stream",
     "text": [
      "menu\n"
     ]
    }
   ],
   "source": [
    "import xml.etree.ElementTree as et\n",
    "tree = et.ElementTree(file='menu.xml')\n",
    "root = tree.getroot()\n",
    "print(root.tag)\n"
   ]
  },
  {
   "cell_type": "code",
   "execution_count": 5,
   "id": "c7551afb",
   "metadata": {},
   "outputs": [
    {
     "name": "stdout",
     "output_type": "stream",
     "text": [
      "<Element 'breakfast' at 0x000001DA1285C8B0>\n"
     ]
    }
   ],
   "source": [
    "print(root[0])"
   ]
  },
  {
   "cell_type": "code",
   "execution_count": 6,
   "id": "d007c355",
   "metadata": {},
   "outputs": [
    {
     "name": "stdout",
     "output_type": "stream",
     "text": [
      "7-11\n"
     ]
    }
   ],
   "source": [
    "print(root[0].get(\"hours\"))"
   ]
  },
  {
   "cell_type": "code",
   "execution_count": 7,
   "id": "5320f72e",
   "metadata": {},
   "outputs": [
    {
     "name": "stdout",
     "output_type": "stream",
     "text": [
      "['hours']\n"
     ]
    }
   ],
   "source": [
    "print(root[0].keys())"
   ]
  },
  {
   "cell_type": "code",
   "execution_count": 8,
   "id": "7156ba5f",
   "metadata": {},
   "outputs": [
    {
     "name": "stdout",
     "output_type": "stream",
     "text": [
      "[('hours', '7-11')]\n"
     ]
    }
   ],
   "source": [
    "print(root[0].items())"
   ]
  },
  {
   "cell_type": "code",
   "execution_count": 9,
   "id": "70699943",
   "metadata": {},
   "outputs": [
    {
     "name": "stdout",
     "output_type": "stream",
     "text": [
      "<Element 'lunch' at 0x000001DA1285C9F0>\n"
     ]
    }
   ],
   "source": [
    "lunch = root.find(\"lunch\")\n",
    "print(lunch)"
   ]
  },
  {
   "cell_type": "code",
   "execution_count": 14,
   "id": "17feacfa",
   "metadata": {},
   "outputs": [
    {
     "name": "stdout",
     "output_type": "stream",
     "text": [
      "11-3\n"
     ]
    }
   ],
   "source": [
    "print(lunch.get(\"hours\"))"
   ]
  },
  {
   "cell_type": "code",
   "execution_count": 15,
   "id": "226c386d",
   "metadata": {},
   "outputs": [
    {
     "name": "stdout",
     "output_type": "stream",
     "text": [
      "['hours']\n"
     ]
    }
   ],
   "source": [
    "print(lunch.keys())"
   ]
  },
  {
   "cell_type": "code",
   "execution_count": 16,
   "id": "d532bfcb",
   "metadata": {},
   "outputs": [
    {
     "name": "stdout",
     "output_type": "stream",
     "text": [
      "[('hours', '11-3')]\n"
     ]
    }
   ],
   "source": [
    "print(lunch.items())"
   ]
  },
  {
   "cell_type": "code",
   "execution_count": 17,
   "id": "8f5a7ff4",
   "metadata": {},
   "outputs": [
    {
     "name": "stdout",
     "output_type": "stream",
     "text": [
      "[<Element 'item' at 0x000001DA1285C950>, <Element 'item' at 0x000001DA1285C9A0>]\n"
     ]
    }
   ],
   "source": [
    "print(root[0].findall('item'))"
   ]
  },
  {
   "cell_type": "code",
   "execution_count": 19,
   "id": "bd6edb4c",
   "metadata": {},
   "outputs": [
    {
     "name": "stdout",
     "output_type": "stream",
     "text": [
      "$6.00\n",
      "breakfast burritos\n",
      "$4.00\n",
      "pancakes\n"
     ]
    }
   ],
   "source": [
    "for item in root[0].findall('item'):\n",
    "    print(item.get('price'))\n",
    "    print(item.text)"
   ]
  },
  {
   "cell_type": "code",
   "execution_count": 23,
   "id": "bab5ffa7",
   "metadata": {},
   "outputs": [
    {
     "data": {
      "text/plain": [
       "{'name': '홍길동', 'birth': '0525', 'age': 30}"
      ]
     },
     "execution_count": 23,
     "metadata": {},
     "output_type": "execute_result"
    }
   ],
   "source": [
    "import json\n",
    "j1 = {\"name\":\"홍길동\",\"birth\":\"0525\", \"age\":30}\n",
    "j1"
   ]
  },
  {
   "cell_type": "code",
   "execution_count": 24,
   "id": "8672ae0c",
   "metadata": {},
   "outputs": [
    {
     "data": {
      "text/plain": [
       "'{\"name\": \"\\\\ud64d\\\\uae38\\\\ub3d9\", \"birth\": \"0525\", \"age\": 30}'"
      ]
     },
     "execution_count": 24,
     "metadata": {},
     "output_type": "execute_result"
    }
   ],
   "source": [
    "json.dumps(j1)"
   ]
  },
  {
   "cell_type": "code",
   "execution_count": 25,
   "id": "c536909a",
   "metadata": {},
   "outputs": [
    {
     "data": {
      "text/plain": [
       "str"
      ]
     },
     "execution_count": 25,
     "metadata": {},
     "output_type": "execute_result"
    }
   ],
   "source": [
    "a = json.dumps(j1)\n",
    "type(a)"
   ]
  },
  {
   "cell_type": "code",
   "execution_count": 26,
   "id": "bd6db417",
   "metadata": {},
   "outputs": [
    {
     "name": "stdout",
     "output_type": "stream",
     "text": [
      "{\"name\": \"\\ud64d\\uae38\\ub3d9\", \"birth\": \"0525\", \"age\": 30}\n"
     ]
    }
   ],
   "source": [
    "print(json.dumps(j1))"
   ]
  },
  {
   "cell_type": "code",
   "execution_count": 28,
   "id": "636816db",
   "metadata": {},
   "outputs": [
    {
     "name": "stdout",
     "output_type": "stream",
     "text": [
      "{\n",
      "  \"name\": \"\\ud64d\\uae38\\ub3d9\",\n",
      "  \"birth\": \"0525\",\n",
      "  \"age\": 30\n",
      "}\n"
     ]
    }
   ],
   "source": [
    "print(json.dumps(j1, indent=2))"
   ]
  },
  {
   "cell_type": "code",
   "execution_count": 30,
   "id": "dfc0d5c1",
   "metadata": {},
   "outputs": [
    {
     "data": {
      "text/plain": [
       "{'name': '홍길동', 'birth': '0525', 'age': 30}"
      ]
     },
     "execution_count": 30,
     "metadata": {},
     "output_type": "execute_result"
    }
   ],
   "source": [
    "j1 = {\"name\":\"홍길동\", \"birth\":\"0525\", \"age\":30}\n",
    "d1 = json.dumps(j1)\n",
    "json.loads(d1)"
   ]
  },
  {
   "cell_type": "code",
   "execution_count": null,
   "id": "6168be47",
   "metadata": {},
   "outputs": [],
   "source": []
  }
 ],
 "metadata": {
  "kernelspec": {
   "display_name": "Python 3 (ipykernel)",
   "language": "python",
   "name": "python3"
  },
  "language_info": {
   "codemirror_mode": {
    "name": "ipython",
    "version": 3
   },
   "file_extension": ".py",
   "mimetype": "text/x-python",
   "name": "python",
   "nbconvert_exporter": "python",
   "pygments_lexer": "ipython3",
   "version": "3.10.9"
  }
 },
 "nbformat": 4,
 "nbformat_minor": 5
}
